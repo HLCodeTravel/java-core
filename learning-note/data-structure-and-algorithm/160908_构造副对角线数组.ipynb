{
 "cells": [
  {
   "cell_type": "markdown",
   "metadata": {},
   "source": [
    "# 问题描述：根据输入数字n，构建一个大小为nxn的二维数组，形式如下："
   ]
  },
  {
   "cell_type": "markdown",
   "metadata": {},
   "source": [
    "[46, 37, 29, 22, 16, 11, 7, 4, 2, 1]<br/>\n",
    "[56, 47, 38, 30, 23, 17, 12, 8, 5, 3]<br/>\n",
    "[65, 57, 48, 39, 31, 24, 18, 13, 9, 6]<br/>\n",
    "[73, 66, 58, 49, 40, 32, 25, 19, 14, 10]<br/>\n",
    "[80, 74, 67, 59, 50, 41, 33, 26, 20, 15]<br/>\n",
    "[86, 81, 75, 68, 60, 51, 42, 34, 27, 21]<br/>\n",
    "[91, 87, 82, 76, 69, 61, 52, 43, 35, 28]<br/>\n",
    "[95, 92, 88, 83, 77, 70, 62, 53, 44, 36]<br/>\n",
    "[98, 96, 93, 89, 84, 78, 71, 63, 54, 45]<br/>\n",
    "[100, 99, 97, 94, 90, 85, 79, 72, 64, 55]"
   ]
  },
  {
   "cell_type": "code",
   "execution_count": 1,
   "metadata": {
    "collapsed": false
   },
   "outputs": [
    {
     "name": "stdout",
     "output_type": "stream",
     "text": [
      "[1, 2, 4, 7, 11, 16, 22, 29, 37, 46]\n",
      "[3, 5, 8, 12, 17, 23, 30, 38, 47, 56]\n",
      "[6, 9, 13, 18, 24, 31, 39, 48, 57, 65]\n",
      "[10, 14, 19, 25, 32, 40, 49, 58, 66, 73]\n",
      "[15, 20, 26, 33, 41, 50, 59, 67, 74, 80]\n",
      "[21, 27, 34, 42, 51, 60, 68, 75, 81, 86]\n",
      "[28, 35, 43, 52, 61, 69, 76, 82, 87, 91]\n",
      "[36, 44, 53, 62, 70, 77, 83, 88, 92, 95]\n",
      "[45, 54, 63, 71, 78, 84, 89, 93, 96, 98]\n",
      "[55, 64, 72, 79, 85, 90, 94, 97, 99, 100]\n",
      "------------------------------\n",
      "[46, 37, 29, 22, 16, 11, 7, 4, 2, 1]\n",
      "[56, 47, 38, 30, 23, 17, 12, 8, 5, 3]\n",
      "[65, 57, 48, 39, 31, 24, 18, 13, 9, 6]\n",
      "[73, 66, 58, 49, 40, 32, 25, 19, 14, 10]\n",
      "[80, 74, 67, 59, 50, 41, 33, 26, 20, 15]\n",
      "[86, 81, 75, 68, 60, 51, 42, 34, 27, 21]\n",
      "[91, 87, 82, 76, 69, 61, 52, 43, 35, 28]\n",
      "[95, 92, 88, 83, 77, 70, 62, 53, 44, 36]\n",
      "[98, 96, 93, 89, 84, 78, 71, 63, 54, 45]\n",
      "[100, 99, 97, 94, 90, 85, 79, 72, 64, 55]\n"
     ]
    }
   ],
   "source": [
    "\n",
    "n = 10\n",
    "# arr = [[0]*n]*n\n",
    "arr = [[0 for i in range(n)] for j in range(n)]\n",
    "row = 0\n",
    "col = 0\n",
    "\n",
    "num = 1\n",
    "\n",
    "\n",
    "\n",
    "def printarr(arr):\n",
    "    for k in range(n):\n",
    "        print(arr[k])\n",
    "\n",
    "        \n",
    "def exchange(arr, n, i, j):\n",
    "    r = i\n",
    "    c = n - 1 - j\n",
    "    tmp = arr[i][j]\n",
    "    arr[r][j] = arr[r][c]\n",
    "    arr[r][c] = tmp\n",
    "    # print(r,'**',c)\n",
    "\n",
    "##############################################\n",
    "\n",
    "for i in range(n):\n",
    "    sum = i\n",
    "    for row in range(sum+1):\n",
    "        col = sum - row\n",
    "        arr[row][col] = num\n",
    "        num += 1\n",
    "\n",
    "f = 0\n",
    "for j in range(n,2*n-1):\n",
    "    sum = j\n",
    "    f += 1\n",
    "    for row in range(f, sum):\n",
    "        col = sum - row\n",
    "        if col < f:\n",
    "            break\n",
    "        arr[row][col] = num\n",
    "        num += 1\n",
    "\n",
    "\n",
    "printarr(arr)\n",
    "print('-'*30)\n",
    "\n",
    "for r in range(n):\n",
    "    for c in range((n-2)//2+1):\n",
    "        # print(r,'--',c)\n",
    "        exchange(arr,n,r,c)\n",
    "\n",
    "printarr(arr)"
   ]
  },
  {
   "cell_type": "code",
   "execution_count": null,
   "metadata": {
    "collapsed": true
   },
   "outputs": [],
   "source": []
  }
 ],
 "metadata": {
  "anaconda-cloud": {},
  "kernelspec": {
   "display_name": "Python [default]",
   "language": "python",
   "name": "python3"
  },
  "language_info": {
   "codemirror_mode": {
    "name": "ipython",
    "version": 3
   },
   "file_extension": ".py",
   "mimetype": "text/x-python",
   "name": "python",
   "nbconvert_exporter": "python",
   "pygments_lexer": "ipython3",
   "version": "3.5.2"
  }
 },
 "nbformat": 4,
 "nbformat_minor": 1
}
